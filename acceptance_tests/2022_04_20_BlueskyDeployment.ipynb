{
 "cells": [
  {
   "cell_type": "code",
   "execution_count": 5,
   "metadata": {
    "jupyter": {
     "outputs_hidden": true
    }
   },
   "outputs": [],
   "source": [
    "import os"
   ]
  },
  {
   "cell_type": "code",
   "execution_count": 6,
   "metadata": {
    "jupyter": {
     "outputs_hidden": true
    }
   },
   "outputs": [
    {
     "name": "stdout",
     "output_type": "stream",
     "text": [
      "Warning: Cannot change to a different GUI toolkit: notebook. Using widget instead.\n"
     ]
    }
   ],
   "source": [
    "%matplotlib notebook"
   ]
  },
  {
   "cell_type": "code",
   "execution_count": 7,
   "metadata": {},
   "outputs": [
    {
     "name": "stdout",
     "output_type": "stream",
     "text": [
      "Positioner                     Value       Low Limit   High Limit  Offset     \n",
      "atten_a1                       -0.0        -999999999.3 10000000.7  -12.3      \n",
      "atten_a2                       0.0         -12.1       -12.1       -12.1      \n",
      "atten_a3                       -0.0        -12.5       -12.5       -12.5      \n",
      "atten_a4                       0.0         -12.8       -12.8       -12.8      \n",
      "bs_fx                          -1180.001   0.0         0.0         0.0        \n",
      "bs_fy                          -870.004    -9999999999.0 999999999.0 0.0        \n",
      "colli_x                        1820.0      400.0       400.0       400.0      \n",
      "colli_xy                       16672.7     0.0         0.0         0.0        \n",
      "colli_z                        -225.0      0.0         0.0         0.0        \n",
      "fe_b                           -1.7        -10.0       10.0        0.0        \n",
      "fe_i                           -0.34992    -10.0       10.0        0.0        \n",
      "fe_o                           2.1496      -10.0       10.0        0.0        \n",
      "fe_t                           1.80004     -9.9        10.1        0.1        \n",
      "fe_x_ctr                       0.89984     -10.0       10.0        AttributeError\n",
      "fe_x_gap                       2.49952     -20.0       20.0        AttributeError\n",
      "fe_y_ctr                       0.05002     -9.95       10.05       AttributeError\n",
      "fe_y_gap                       3.50004     -19.9       20.1        AttributeError\n",
      "gonio_gx                       5500.0      -16000.0    16000.0     0.0        \n",
      "gonio_gy                       23249.0     0.0         0.0         0.0        \n",
      "gonio_gz                       3329.99     0.0         0.0         0.0        \n",
      "gonio_o                        -1.4e-05    -35865.0    36135.0     60.0       \n",
      "gonio_py                       -179.917    -5000.0     5000.0      -922.217   \n",
      "gonio_pz                       104.9       -5000.0     5000.0      0.0        \n",
      "hhls_b                         -2.4        -0.31       -0.31       -0.31      \n",
      "hhls_i                         -1.599      -2.36       -2.36       -2.36      \n",
      "hhls_o                         2.1         -3.6        -3.6        -3.6       \n",
      "hhls_t                         1.8         -0.19       -0.19       -0.19      \n",
      "hhls_x_ctr                     -2.98       -2.98       -2.98       -2.98      \n",
      "hhls_x_gap                     -1.24       -1.24       -1.24       -1.24      \n",
      "hhls_y_ctr                     -0.25       -0.25       -0.25       -0.25      \n",
      "hhls_y_gap                     0.12        0.12        0.12        0.12       \n",
      "hm_x                           1050.0      0.0         0.0         0.0        \n",
      "hm_y                           -150.0      0.0         0.0         0.0        \n",
      "hm_z                           -57.83      0.0         0.0         0.0        \n",
      "ivu_gap_gap                    25150.17    6200.0      25200.0     0.0        \n",
      "kbm_hp                         3.458       4.088       4.088       4.088      \n",
      "kbm_hr                         -2.5        -12.195     -12.195     -12.195    \n",
      "kbm_hx                         -1.846      -7.0        9.0         7.456      \n",
      "kbm_hy                         0.154       -0.828      -0.828      -0.828     \n",
      "kbm_vp                         -3.671      -5.0        2.0         1.53       \n",
      "kbm_vx                         0.0         5.75        5.75        5.75       \n",
      "kbm_vy                         1.845       6.3         6.3         6.3        \n",
      "mbpm1_x                        739.29      -5400.0     5400.0      0.0        \n",
      "mbpm1_y                        -1067.08    -9700.0     5100.0      0.0        \n",
      "mbpm2_x                        0.01        0.0         0.0         0.0        \n",
      "mbpm2_y                        -3.78       0.0         0.0         0.0        \n",
      "mbpm3_x                        -2000.0     -237.0      -237.0      -237.0     \n",
      "mbpm3_y                        275.0       -526.88     -526.88     -526.88    \n",
      "mic_x                          285.98      0.0         0.0         0.0        \n",
      "mic_y                          -300.08     -100000.0   100000.0    0.0        \n",
      "sht_x                          1100.0      -5900.0     14500.0     1100.0     \n",
      "slits1_b                       -1299.99    0.0         0.0         0.0        \n",
      "slits1_i                       -1499.99    0.0         0.0         0.0        \n",
      "slits1_o                       1500.0      0.0         0.0         0.0        \n",
      "slits1_t                       1500.02     0.0         0.0         0.0        \n",
      "slits1_x_ctr                   0.0         0.0         0.0         0.0        \n",
      "slits1_x_gap                   2999.97     0.0         0.0         0.0        \n",
      "slits1_y_ctr                   100.01      0.0         0.0         0.0        \n",
      "slits1_y_gap                   2800.01     0.0         0.0         0.0        \n",
      "slits2_b                       -3725.01    -3653.83    -3653.83    -3653.83   \n",
      "slits2_i                       -825.01     -861.46     -861.46     -861.46    \n",
      "slits2_o                       4549.99     4361.46     4361.46     4361.46    \n",
      "slits2_t                       1200.01     1220.17     1220.17     1220.17    \n",
      "slits2_x_ctr                   1862.5      1750.01     1750.01     1750.01    \n",
      "slits2_x_gap                   5375.0      5222.92     5222.92     5222.92    \n",
      "slits2_y_ctr                   -1262.5     -1216.83    -1216.83    -1216.83   \n",
      "slits2_y_gap                   4925.01     4873.99     4873.99     4873.99    \n",
      "slits3_b                       58.01       -2180.0     -2180.0     -2180.0    \n",
      "slits3_i                       -30.0       -205.0      -205.0      -205.0     \n",
      "slits3_o                       267.0       200.0       200.0       200.0      \n",
      "slits3_t                       -133.0      -2410.0     -2410.0     -2410.0    \n",
      "slits3_x_ctr                   118.5       -2.5        -2.5        -2.5       \n",
      "slits3_x_gap                   297.0       405.0       405.0       405.0      \n",
      "slits3_y_ctr                   -37.5       -2295.0     -2295.0     -2295.0    \n",
      "slits3_y_gap                   -191.0      -230.0      -230.0      -230.0     \n",
      "slits4_b                       3488.02     0.0         0.0         0.0        \n",
      "slits4_i                       -808.01     0.0         0.0         0.0        \n",
      "slits4_o                       -1478.0     0.0         0.0         0.0        \n",
      "slits4_t                       3027.0      0.0         0.0         0.0        \n",
      "slits4_x_ctr                   -1143.0     0.0         0.0         0.0        \n",
      "slits4_x_gap                   -669.99     0.0         0.0         0.0        \n",
      "slits4_y_ctr                   3257.51     0.0         0.0         0.0        \n",
      "slits4_y_gap                   -461.02     0.0         0.0         0.0        \n",
      "tdm_pd                         3.167898    2.262       2.262       2.262      \n",
      "tdm_pu                         3.527916    -100000.0   100000.0    4.04       \n",
      "tdm_rd                         6.5         -10.747     -10.747     -10.747    \n",
      "tdm_xd                         1.023       1.04        1.04        1.04       \n",
      "tdm_xu                         1.152       1.32        1.32        1.32       \n",
      "tdm_yd                         -6.001      -100.0      100.0       1.603      \n",
      "tdm_yu                         -6.0        4.1         4.1         4.1        \n",
      "vdcm_b                         8.437       -8.423      23.504      -0.381     \n",
      "vdcm_e                         13475.4     0.0         0.0         0.0        \n",
      "vdcm_g                         14.739      -999.0      999.0       17.66      \n",
      "vdcm_p                         6.471335    -5.619      -5.619      -5.619     \n",
      "vdcm_r                         5.774       -211.969    188.031     -19.822    \n",
      "vdcm_w                         DisconnectedError                                    \n"
     ]
    }
   ],
   "source": [
    "wa"
   ]
  },
  {
   "cell_type": "markdown",
   "metadata": {},
   "source": [
    "Bluesky deployment test: 20Apr2022 at AMX; the 2 functions below are the \"simplest\" scan and the most used function: set energy using the diode instead of the BPM current. "
   ]
  },
  {
   "cell_type": "code",
   "execution_count": 8,
   "metadata": {},
   "outputs": [
    {
     "data": {
      "application/vnd.jupyter.widget-view+json": {
       "model_id": "d5d4fd455e5a456c8e580a821950f6ac",
       "version_major": 2,
       "version_minor": 0
      },
      "text/plain": [
       "FigureCanvasNbAgg()"
      ]
     },
     "metadata": {},
     "output_type": "display_data"
    },
    {
     "name": "stdout",
     "output_type": "stream",
     "text": [
      "Scanning vdcm_p vs bpm3...\n",
      "Transient Scan ID: 2649     Time: 2022-04-20 13:22:09\n",
      "Persistent Unique Scan ID: 'd7600b38-0594-449e-b655-974e93faa785'\n",
      "Scan ID: 2649\n",
      "Unique ID: d7600b38-0594-449e-b655-974e93faa785\n",
      "New stream: 'primary'\n",
      "+-----------+------------+------------+--------------+\n",
      "|   seq_num |       time |     vdcm_p | bpm3_sum_all |\n",
      "+-----------+------------+------------+--------------+\n"
     ]
    },
    {
     "data": {
      "application/vnd.jupyter.widget-view+json": {
       "model_id": "6d04d394b1f845979053970ebcb4c5b3",
       "version_major": 2,
       "version_minor": 0
      },
      "text/plain": [
       "FigureCanvasNbAgg()"
      ]
     },
     "metadata": {},
     "output_type": "display_data"
    },
    {
     "name": "stdout",
     "output_type": "stream",
     "text": [
      "|         1 | 13:22:11.0 |   6.626224 |            0 |\n",
      "|         2 | 13:22:11.7 |   6.626989 |            0 |\n",
      "|         3 | 13:22:12.2 |   6.627789 |            0 |\n",
      "|         4 | 13:22:12.5 |   6.628600 |            0 |\n",
      "|         5 | 13:22:12.9 |   6.629411 |            0 |\n",
      "|         6 | 13:22:13.6 |   6.630188 |            0 |\n",
      "|         7 | 13:22:14.1 |   6.630976 |            0 |\n",
      "|         8 | 13:22:14.6 |   6.631753 |            0 |\n",
      "|         9 | 13:22:15.2 |   6.632599 |            0 |\n",
      "|        10 | 13:22:15.8 |   6.633307 |            0 |\n",
      "|        11 | 13:22:16.4 |   6.634198 |            0 |\n",
      "|        12 | 13:22:16.9 |   6.634952 |            0 |\n",
      "|        13 | 13:22:17.4 |   6.635775 |            0 |\n",
      "|        14 | 13:22:17.8 |   6.636598 |            0 |\n",
      "|        15 | 13:22:18.1 |   6.637397 |            0 |\n",
      "|        16 | 13:22:18.4 |   6.638220 |            0 |\n",
      "|        17 | 13:22:18.9 |   6.638940 |            0 |\n",
      "|        18 | 13:22:19.4 |   6.639796 |            0 |\n",
      "|        19 | 13:22:19.8 |   6.640539 |            0 |\n",
      "|        20 | 13:22:20.4 |   6.641373 |            0 |\n",
      "|        21 | 13:22:21.1 |   6.642230 |            0 |\n",
      "|        22 | 13:22:21.4 |   6.642961 |            0 |\n",
      "|        23 | 13:22:21.9 |   6.643772 |            0 |\n",
      "|        24 | 13:22:22.5 |   6.644584 |            0 |\n",
      "|        25 | 13:22:22.9 |   6.645395 |            0 |\n",
      "|        26 | 13:22:23.4 |   6.646195 |            0 |\n",
      "|        27 | 13:22:23.9 |   6.647029 |            0 |\n",
      "|        28 | 13:22:24.2 |   6.647805 |            0 |\n",
      "|        29 | 13:22:24.5 |   6.648617 |            0 |\n",
      "|        30 | 13:22:24.9 |   6.649371 |            0 |\n",
      "|        31 | 13:22:25.4 |   6.650170 |            0 |\n",
      "|        32 | 13:22:26.1 |   6.650982 |            0 |\n",
      "|        33 | 13:22:26.6 |   6.651781 |            0 |\n",
      "|        34 | 13:22:27.1 |   6.652581 |            0 |\n",
      "|        35 | 13:22:27.8 |   6.653381 |            0 |\n",
      "|        36 | 13:22:28.1 |   6.654192 |            0 |\n",
      "|        37 | 13:22:28.6 |   6.654980 |            0 |\n",
      "|        38 | 13:22:29.1 |   6.655757 |            0 |\n",
      "|        39 | 13:22:29.6 |   6.656580 |            0 |\n",
      "|        40 | 13:22:29.9 |   6.657368 |            0 |\n",
      "|        41 | 13:22:30.6 |   6.658214 |            0 |\n",
      "|        42 | 13:22:30.8 |   6.658968 |            0 |\n",
      "|        43 | 13:22:31.1 |   6.659745 |            0 |\n",
      "|        44 | 13:22:31.6 |   6.660579 |            0 |\n",
      "|        45 | 13:22:32.1 |   6.661333 |            0 |\n",
      "|        46 | 13:22:32.6 |   6.662167 |            0 |\n",
      "|        47 | 13:22:33.1 |   6.662932 |            0 |\n",
      "|        48 | 13:22:33.9 |   6.663823 |            0 |\n",
      "|        49 | 13:22:34.4 |   6.664600 |            0 |\n",
      "+-----------+------------+------------+--------------+\n",
      "|   seq_num |       time |     vdcm_p | bpm3_sum_all |\n",
      "+-----------+------------+------------+--------------+\n",
      "|        50 | 13:22:34.8 |   6.665389 |            0 |\n",
      "|        51 | 13:22:35.4 |   6.666131 |            0 |\n",
      "+-----------+------------+------------+--------------+\n",
      "generator rel_scan ['d7600b38'] (scan num: 2649)\n",
      "\n",
      "\n",
      "\n"
     ]
    },
    {
     "name": "stderr",
     "output_type": "stream",
     "text": [
      "/opt/conda_envs/collection-2019-3.0-fmx/lib/python3.7/site-packages/bluesky/callbacks/fitting.py:167: RuntimeWarning: invalid value encountered in double_scalars\n",
      "  for dir in range(input.ndim)]\n"
     ]
    },
    {
     "name": "stdout",
     "output_type": "stream",
     "text": [
      "Found peak for vdcm_p at 6.626983075 mrad [BPM reading 0.0]\n",
      "BPM3 sum = 0 A\n"
     ]
    },
    {
     "data": {
      "text/plain": [
       "('d7600b38-0594-449e-b655-974e93faa785',)"
      ]
     },
     "execution_count": 8,
     "metadata": {},
     "output_type": "execute_result"
    }
   ],
   "source": [
    "RE(vdcm_rock_test())"
   ]
  },
  {
   "cell_type": "code",
   "execution_count": 9,
   "metadata": {},
   "outputs": [
    {
     "name": "stdout",
     "output_type": "stream",
     "text": [
      "[E 13:22:59.080 run_engine:1261] Run aborted\n",
      "    Traceback (most recent call last):\n",
      "      File \"/opt/conda_envs/collection-2019-3.0-fmx/lib/python3.7/site-packages/bluesky/run_engine.py\", line 1127, in _run\n",
      "        self._exception or resp)\n",
      "      File \"/opt/conda_envs/collection-2019-3.0-fmx/lib/python3.7/site-packages/bluesky/preprocessors.py\", line 1294, in __call__\n",
      "        return (yield from plan)\n",
      "      File \"/opt/conda_envs/collection-2019-3.0-fmx/lib/python3.7/site-packages/bluesky/preprocessors.py\", line 1147, in baseline_wrapper\n",
      "        return (yield from plan)\n",
      "      File \"/opt/conda_envs/collection-2019-3.0-fmx/lib/python3.7/site-packages/bluesky/preprocessors.py\", line 790, in monitor_during_wrapper\n",
      "        return (yield from plan2)\n",
      "      File \"/opt/conda_envs/collection-2019-3.0-fmx/lib/python3.7/site-packages/bluesky/preprocessors.py\", line 77, in plan_mutator\n",
      "        msg = plan_stack[-1].throw(exception)\n",
      "      File \"/opt/conda_envs/collection-2019-3.0-fmx/lib/python3.7/site-packages/bluesky/preprocessors.py\", line 77, in plan_mutator\n",
      "        msg = plan_stack[-1].throw(exception)\n",
      "      File \"/opt/conda_envs/collection-2019-3.0-fmx/lib/python3.7/site-packages/bluesky/preprocessors.py\", line 848, in fly_during_wrapper\n",
      "        return (yield from plan2)\n",
      "      File \"/opt/conda_envs/collection-2019-3.0-fmx/lib/python3.7/site-packages/bluesky/preprocessors.py\", line 77, in plan_mutator\n",
      "        msg = plan_stack[-1].throw(exception)\n",
      "      File \"/opt/conda_envs/collection-2019-3.0-fmx/lib/python3.7/site-packages/bluesky/preprocessors.py\", line 77, in plan_mutator\n",
      "        msg = plan_stack[-1].throw(exception)\n",
      "      File \"/epics/iocs/notebook/.ipython/profile_collection/startup/95-custom_plans.py\", line 525, in set_energy\n",
      "        *lgp(vdcm.p),     # Set Pitch to last known good position\n",
      "      File \"/opt/conda_envs/collection-2019-3.0-fmx/lib/python3.7/site-packages/bluesky/plan_stubs.py\", line 245, in mv\n",
      "        ret = yield Msg('set', obj, val, group=group)\n",
      "      File \"/opt/conda_envs/collection-2019-3.0-fmx/lib/python3.7/site-packages/bluesky/preprocessors.py\", line 194, in plan_mutator\n",
      "        inner_ret = yield msg\n",
      "      File \"/opt/conda_envs/collection-2019-3.0-fmx/lib/python3.7/site-packages/bluesky/preprocessors.py\", line 194, in plan_mutator\n",
      "        inner_ret = yield msg\n",
      "      File \"/opt/conda_envs/collection-2019-3.0-fmx/lib/python3.7/site-packages/bluesky/preprocessors.py\", line 194, in plan_mutator\n",
      "        inner_ret = yield msg\n",
      "      [Previous line repeated 1 more time]\n",
      "      File \"/opt/conda_envs/collection-2019-3.0-fmx/lib/python3.7/site-packages/bluesky/run_engine.py\", line 1208, in _run\n",
      "        new_response = yield from coro(msg)\n",
      "      File \"/opt/conda_envs/collection-2019-3.0-fmx/lib/python3.7/asyncio/coroutines.py\", line 120, in coro\n",
      "        res = func(*args, **kw)\n",
      "      File \"/opt/conda_envs/collection-2019-3.0-fmx/lib/python3.7/site-packages/bluesky/run_engine.py\", line 1955, in _set\n",
      "        ret = msg.obj.set(*msg.args, **kwargs)\n",
      "      File \"/epics/iocs/notebook/.ipython/profile_collection/startup/09-machine.py\", line 17, in set\n",
      "        set_and_wait(self.brake, 1)\n",
      "      File \"/opt/conda_envs/collection-2019-3.0-fmx/lib/python3.7/site-packages/ophyd/utils/epics_pvs.py\", line 228, in set_and_wait\n",
      "        signal.put(val)\n",
      "      File \"/opt/conda_envs/collection-2019-3.0-fmx/lib/python3.7/site-packages/ophyd/signal.py\", line 900, in put\n",
      "        self._write_pv.put(value, use_complete=use_complete, **kwargs)\n",
      "      File \"/opt/conda_envs/collection-2019-3.0-fmx/lib/python3.7/site-packages/epics/pv.py\", line 395, in put\n",
      "        callback_data=callback_data)\n",
      "      File \"/opt/conda_envs/collection-2019-3.0-fmx/lib/python3.7/site-packages/epics/ca.py\", line 439, in wrapper\n",
      "        return fcn(*args, **kwds)\n",
      "      File \"/opt/conda_envs/collection-2019-3.0-fmx/lib/python3.7/site-packages/epics/ca.py\", line 1443, in put\n",
      "        PySEVCHK('put', ret)\n",
      "      File \"/opt/conda_envs/collection-2019-3.0-fmx/lib/python3.7/site-packages/epics/ca.py\", line 468, in PySEVCHK\n",
      "        raise CASeverityException(func_name, message(status))\n",
      "    epics.ca.CASeverityException:  put returned 'Write access denied'\n",
      "[E 13:22:59.163 run_engine:1075] Failed to stop InsertionDevice(prefix='SR:C17-ID:G1{IVU21:1', name='ivu_gap', read_attrs=['gap', 'gap.user_readback', 'gap.user_setpoint'], configuration_attrs=['gap', 'gap.user_offset', 'gap.user_offset_dir', 'gap.velocity', 'gap.acceleration', 'gap.motor_egu']).\n",
      "    Traceback (most recent call last):\n",
      "      File \"/opt/conda_envs/collection-2019-3.0-fmx/lib/python3.7/site-packages/bluesky/run_engine.py\", line 1262, in _run\n",
      "        raise err\n",
      "      File \"/opt/conda_envs/collection-2019-3.0-fmx/lib/python3.7/site-packages/bluesky/run_engine.py\", line 1127, in _run\n",
      "        self._exception or resp)\n",
      "      File \"/opt/conda_envs/collection-2019-3.0-fmx/lib/python3.7/site-packages/bluesky/preprocessors.py\", line 1294, in __call__\n",
      "        return (yield from plan)\n",
      "      File \"/opt/conda_envs/collection-2019-3.0-fmx/lib/python3.7/site-packages/bluesky/preprocessors.py\", line 1147, in baseline_wrapper\n",
      "        return (yield from plan)\n",
      "      File \"/opt/conda_envs/collection-2019-3.0-fmx/lib/python3.7/site-packages/bluesky/preprocessors.py\", line 790, in monitor_during_wrapper\n",
      "        return (yield from plan2)\n",
      "      File \"/opt/conda_envs/collection-2019-3.0-fmx/lib/python3.7/site-packages/bluesky/preprocessors.py\", line 77, in plan_mutator\n",
      "        msg = plan_stack[-1].throw(exception)\n",
      "      File \"/opt/conda_envs/collection-2019-3.0-fmx/lib/python3.7/site-packages/bluesky/preprocessors.py\", line 77, in plan_mutator\n",
      "        msg = plan_stack[-1].throw(exception)\n",
      "      File \"/opt/conda_envs/collection-2019-3.0-fmx/lib/python3.7/site-packages/bluesky/preprocessors.py\", line 848, in fly_during_wrapper\n",
      "        return (yield from plan2)\n",
      "      File \"/opt/conda_envs/collection-2019-3.0-fmx/lib/python3.7/site-packages/bluesky/preprocessors.py\", line 77, in plan_mutator\n",
      "        msg = plan_stack[-1].throw(exception)\n",
      "      File \"/opt/conda_envs/collection-2019-3.0-fmx/lib/python3.7/site-packages/bluesky/preprocessors.py\", line 77, in plan_mutator\n",
      "        msg = plan_stack[-1].throw(exception)\n",
      "      File \"/epics/iocs/notebook/.ipython/profile_collection/startup/95-custom_plans.py\", line 525, in set_energy\n",
      "        *lgp(vdcm.p),     # Set Pitch to last known good position\n",
      "      File \"/opt/conda_envs/collection-2019-3.0-fmx/lib/python3.7/site-packages/bluesky/plan_stubs.py\", line 245, in mv\n",
      "        ret = yield Msg('set', obj, val, group=group)\n",
      "      File \"/opt/conda_envs/collection-2019-3.0-fmx/lib/python3.7/site-packages/bluesky/preprocessors.py\", line 194, in plan_mutator\n",
      "        inner_ret = yield msg\n",
      "      File \"/opt/conda_envs/collection-2019-3.0-fmx/lib/python3.7/site-packages/bluesky/preprocessors.py\", line 194, in plan_mutator\n",
      "        inner_ret = yield msg\n",
      "      File \"/opt/conda_envs/collection-2019-3.0-fmx/lib/python3.7/site-packages/bluesky/preprocessors.py\", line 194, in plan_mutator\n",
      "        inner_ret = yield msg\n",
      "      [Previous line repeated 1 more time]\n",
      "      File \"/opt/conda_envs/collection-2019-3.0-fmx/lib/python3.7/site-packages/bluesky/run_engine.py\", line 1208, in _run\n",
      "        new_response = yield from coro(msg)\n",
      "      File \"/opt/conda_envs/collection-2019-3.0-fmx/lib/python3.7/asyncio/coroutines.py\", line 120, in coro\n",
      "        res = func(*args, **kw)\n",
      "      File \"/opt/conda_envs/collection-2019-3.0-fmx/lib/python3.7/site-packages/bluesky/run_engine.py\", line 1955, in _set\n",
      "        ret = msg.obj.set(*msg.args, **kwargs)\n",
      "      File \"/epics/iocs/notebook/.ipython/profile_collection/startup/09-machine.py\", line 17, in set\n",
      "        set_and_wait(self.brake, 1)\n",
      "      File \"/opt/conda_envs/collection-2019-3.0-fmx/lib/python3.7/site-packages/ophyd/utils/epics_pvs.py\", line 228, in set_and_wait\n",
      "        signal.put(val)\n",
      "      File \"/opt/conda_envs/collection-2019-3.0-fmx/lib/python3.7/site-packages/ophyd/signal.py\", line 900, in put\n",
      "        self._write_pv.put(value, use_complete=use_complete, **kwargs)\n",
      "      File \"/opt/conda_envs/collection-2019-3.0-fmx/lib/python3.7/site-packages/epics/pv.py\", line 395, in put\n",
      "        callback_data=callback_data)\n",
      "      File \"/opt/conda_envs/collection-2019-3.0-fmx/lib/python3.7/site-packages/epics/ca.py\", line 439, in wrapper\n",
      "        return fcn(*args, **kwds)\n",
      "      File \"/opt/conda_envs/collection-2019-3.0-fmx/lib/python3.7/site-packages/epics/ca.py\", line 1443, in put\n",
      "        PySEVCHK('put', ret)\n",
      "      File \"/opt/conda_envs/collection-2019-3.0-fmx/lib/python3.7/site-packages/epics/ca.py\", line 468, in PySEVCHK\n",
      "        raise CASeverityException(func_name, message(status))\n",
      "    epics.ca.CASeverityException:  put returned 'Write access denied'\n",
      "    \n",
      "    During handling of the above exception, another exception occurred:\n",
      "    \n",
      "    Traceback (most recent call last):\n",
      "      File \"/opt/conda_envs/collection-2019-3.0-fmx/lib/python3.7/site-packages/bluesky/run_engine.py\", line 1073, in _stop_movable_objects\n",
      "        stop(success=success)\n",
      "      File \"/epics/iocs/notebook/.ipython/profile_collection/startup/09-machine.py\", line 21, in stop\n",
      "        return self.gap.stop(success=success)\n",
      "      File \"/opt/conda_envs/collection-2019-3.0-fmx/lib/python3.7/site-packages/ophyd/utils/epics_pvs.py\", line 197, in wrapper\n",
      "        return fcn(self, *args, **kwargs)\n",
      "      File \"/opt/conda_envs/collection-2019-3.0-fmx/lib/python3.7/site-packages/ophyd/epics_motor.py\", line 114, in stop\n",
      "        self.motor_stop.put(1, wait=False)\n",
      "      File \"/opt/conda_envs/collection-2019-3.0-fmx/lib/python3.7/site-packages/ophyd/signal.py\", line 900, in put\n",
      "        self._write_pv.put(value, use_complete=use_complete, **kwargs)\n",
      "      File \"/opt/conda_envs/collection-2019-3.0-fmx/lib/python3.7/site-packages/epics/pv.py\", line 395, in put\n",
      "        callback_data=callback_data)\n",
      "      File \"/opt/conda_envs/collection-2019-3.0-fmx/lib/python3.7/site-packages/epics/ca.py\", line 439, in wrapper\n",
      "        return fcn(*args, **kwds)\n",
      "      File \"/opt/conda_envs/collection-2019-3.0-fmx/lib/python3.7/site-packages/epics/ca.py\", line 1443, in put\n",
      "        PySEVCHK('put', ret)\n",
      "      File \"/opt/conda_envs/collection-2019-3.0-fmx/lib/python3.7/site-packages/epics/ca.py\", line 468, in PySEVCHK\n",
      "        raise CASeverityException(func_name, message(status))\n",
      "    epics.ca.CASeverityException:  put returned 'Write access denied'\n"
     ]
    },
    {
     "ename": "CASeverityException",
     "evalue": " put returned 'Write access denied'",
     "output_type": "error",
     "traceback": [
      "\u001b[0;31m---------------------------------------------------------------------------\u001b[0m",
      "\u001b[0;31mCASeverityException\u001b[0m                       Traceback (most recent call last)",
      "\u001b[0;32m<ipython-input-9-532e076b4495>\u001b[0m in \u001b[0;36m<module>\u001b[0;34m\u001b[0m\n\u001b[0;32m----> 1\u001b[0;31m \u001b[0mRE\u001b[0m\u001b[0;34m(\u001b[0m\u001b[0mset_energy\u001b[0m\u001b[0;34m(\u001b[0m\u001b[0;36m13475\u001b[0m\u001b[0;34m,\u001b[0m\u001b[0muse_diode\u001b[0m\u001b[0;34m=\u001b[0m\u001b[0;32mTrue\u001b[0m\u001b[0;34m)\u001b[0m\u001b[0;34m)\u001b[0m\u001b[0;34m\u001b[0m\u001b[0;34m\u001b[0m\u001b[0m\n\u001b[0m",
      "\u001b[0;32m/opt/conda_envs/collection-2019-3.0-fmx/lib/python3.7/site-packages/bluesky/run_engine.py\u001b[0m in \u001b[0;36m__call__\u001b[0;34m(self, *args, **metadata_kw)\u001b[0m\n\u001b[1;32m    751\u001b[0m                     \u001b[0;31m# it (unless it is a canceled error)\u001b[0m\u001b[0;34m\u001b[0m\u001b[0;34m\u001b[0m\u001b[0;34m\u001b[0m\u001b[0m\n\u001b[1;32m    752\u001b[0m                     \u001b[0;32mif\u001b[0m \u001b[0mexc\u001b[0m \u001b[0;32mis\u001b[0m \u001b[0;32mnot\u001b[0m \u001b[0;32mNone\u001b[0m\u001b[0;34m:\u001b[0m\u001b[0;34m\u001b[0m\u001b[0;34m\u001b[0m\u001b[0m\n\u001b[0;32m--> 753\u001b[0;31m                         \u001b[0;32mraise\u001b[0m \u001b[0mexc\u001b[0m\u001b[0;34m\u001b[0m\u001b[0;34m\u001b[0m\u001b[0m\n\u001b[0m\u001b[1;32m    754\u001b[0m \u001b[0;34m\u001b[0m\u001b[0m\n\u001b[1;32m    755\u001b[0m             \u001b[0;32mif\u001b[0m \u001b[0mself\u001b[0m\u001b[0;34m.\u001b[0m\u001b[0m_interrupted\u001b[0m\u001b[0;34m:\u001b[0m\u001b[0;34m\u001b[0m\u001b[0;34m\u001b[0m\u001b[0m\n",
      "\u001b[0;32m/opt/conda_envs/collection-2019-3.0-fmx/lib/python3.7/site-packages/bluesky/run_engine.py\u001b[0m in \u001b[0;36m_run\u001b[0;34m(self)\u001b[0m\n\u001b[1;32m   1260\u001b[0m             \u001b[0mself\u001b[0m\u001b[0;34m.\u001b[0m\u001b[0m_reason\u001b[0m \u001b[0;34m=\u001b[0m \u001b[0mstr\u001b[0m\u001b[0;34m(\u001b[0m\u001b[0merr\u001b[0m\u001b[0;34m)\u001b[0m\u001b[0;34m\u001b[0m\u001b[0;34m\u001b[0m\u001b[0m\n\u001b[1;32m   1261\u001b[0m             \u001b[0mself\u001b[0m\u001b[0;34m.\u001b[0m\u001b[0mlog\u001b[0m\u001b[0;34m.\u001b[0m\u001b[0mexception\u001b[0m\u001b[0;34m(\u001b[0m\u001b[0;34m\"Run aborted\"\u001b[0m\u001b[0;34m)\u001b[0m\u001b[0;34m\u001b[0m\u001b[0;34m\u001b[0m\u001b[0m\n\u001b[0;32m-> 1262\u001b[0;31m             \u001b[0;32mraise\u001b[0m \u001b[0merr\u001b[0m\u001b[0;34m\u001b[0m\u001b[0;34m\u001b[0m\u001b[0m\n\u001b[0m\u001b[1;32m   1263\u001b[0m         \u001b[0;32mfinally\u001b[0m\u001b[0;34m:\u001b[0m\u001b[0;34m\u001b[0m\u001b[0;34m\u001b[0m\u001b[0m\n\u001b[1;32m   1264\u001b[0m             \u001b[0;31m# Some done_callbacks may still be alive in other threads.\u001b[0m\u001b[0;34m\u001b[0m\u001b[0;34m\u001b[0m\u001b[0;34m\u001b[0m\u001b[0m\n",
      "\u001b[0;32m/opt/conda_envs/collection-2019-3.0-fmx/lib/python3.7/site-packages/bluesky/run_engine.py\u001b[0m in \u001b[0;36m_run\u001b[0;34m(self)\u001b[0m\n\u001b[1;32m   1125\u001b[0m                         \u001b[0;32mtry\u001b[0m\u001b[0;34m:\u001b[0m\u001b[0;34m\u001b[0m\u001b[0;34m\u001b[0m\u001b[0m\n\u001b[1;32m   1126\u001b[0m                             msg = self._plan_stack[-1].throw(\n\u001b[0;32m-> 1127\u001b[0;31m                                 self._exception or resp)\n\u001b[0m\u001b[1;32m   1128\u001b[0m                         \u001b[0;32mexcept\u001b[0m \u001b[0mException\u001b[0m \u001b[0;32mas\u001b[0m \u001b[0me\u001b[0m\u001b[0;34m:\u001b[0m\u001b[0;34m\u001b[0m\u001b[0;34m\u001b[0m\u001b[0m\n\u001b[1;32m   1129\u001b[0m                             \u001b[0;31m# The current plan did not handle it,\u001b[0m\u001b[0;34m\u001b[0m\u001b[0;34m\u001b[0m\u001b[0;34m\u001b[0m\u001b[0m\n",
      "\u001b[0;32m/opt/conda_envs/collection-2019-3.0-fmx/lib/python3.7/site-packages/bluesky/preprocessors.py\u001b[0m in \u001b[0;36m__call__\u001b[0;34m(self, plan)\u001b[0m\n\u001b[1;32m   1292\u001b[0m         \u001b[0mplan\u001b[0m \u001b[0;34m=\u001b[0m \u001b[0mmonitor_during_wrapper\u001b[0m\u001b[0;34m(\u001b[0m\u001b[0mplan\u001b[0m\u001b[0;34m,\u001b[0m \u001b[0mself\u001b[0m\u001b[0;34m.\u001b[0m\u001b[0mmonitors\u001b[0m\u001b[0;34m)\u001b[0m\u001b[0;34m\u001b[0m\u001b[0;34m\u001b[0m\u001b[0m\n\u001b[1;32m   1293\u001b[0m         \u001b[0mplan\u001b[0m \u001b[0;34m=\u001b[0m \u001b[0mbaseline_wrapper\u001b[0m\u001b[0;34m(\u001b[0m\u001b[0mplan\u001b[0m\u001b[0;34m,\u001b[0m \u001b[0mself\u001b[0m\u001b[0;34m.\u001b[0m\u001b[0mbaseline\u001b[0m\u001b[0;34m)\u001b[0m\u001b[0;34m\u001b[0m\u001b[0;34m\u001b[0m\u001b[0m\n\u001b[0;32m-> 1294\u001b[0;31m         \u001b[0;32mreturn\u001b[0m \u001b[0;34m(\u001b[0m\u001b[0;32myield\u001b[0m \u001b[0;32mfrom\u001b[0m \u001b[0mplan\u001b[0m\u001b[0;34m)\u001b[0m\u001b[0;34m\u001b[0m\u001b[0;34m\u001b[0m\u001b[0m\n\u001b[0m",
      "\u001b[0;32m/opt/conda_envs/collection-2019-3.0-fmx/lib/python3.7/site-packages/bluesky/preprocessors.py\u001b[0m in \u001b[0;36mbaseline_wrapper\u001b[0;34m(plan, devices, name)\u001b[0m\n\u001b[1;32m   1145\u001b[0m     \u001b[0;32mif\u001b[0m \u001b[0;32mnot\u001b[0m \u001b[0mdevices\u001b[0m\u001b[0;34m:\u001b[0m\u001b[0;34m\u001b[0m\u001b[0;34m\u001b[0m\u001b[0m\n\u001b[1;32m   1146\u001b[0m         \u001b[0;31m# no-op\u001b[0m\u001b[0;34m\u001b[0m\u001b[0;34m\u001b[0m\u001b[0;34m\u001b[0m\u001b[0m\n\u001b[0;32m-> 1147\u001b[0;31m         \u001b[0;32mreturn\u001b[0m \u001b[0;34m(\u001b[0m\u001b[0;32myield\u001b[0m \u001b[0;32mfrom\u001b[0m \u001b[0mplan\u001b[0m\u001b[0;34m)\u001b[0m\u001b[0;34m\u001b[0m\u001b[0;34m\u001b[0m\u001b[0m\n\u001b[0m\u001b[1;32m   1148\u001b[0m     \u001b[0;32melse\u001b[0m\u001b[0;34m:\u001b[0m\u001b[0;34m\u001b[0m\u001b[0;34m\u001b[0m\u001b[0m\n\u001b[1;32m   1149\u001b[0m         \u001b[0;32mreturn\u001b[0m \u001b[0;34m(\u001b[0m\u001b[0;32myield\u001b[0m \u001b[0;32mfrom\u001b[0m \u001b[0mplan_mutator\u001b[0m\u001b[0;34m(\u001b[0m\u001b[0mplan\u001b[0m\u001b[0;34m,\u001b[0m \u001b[0minsert_baseline\u001b[0m\u001b[0;34m)\u001b[0m\u001b[0;34m)\u001b[0m\u001b[0;34m\u001b[0m\u001b[0;34m\u001b[0m\u001b[0m\n",
      "\u001b[0;32m/opt/conda_envs/collection-2019-3.0-fmx/lib/python3.7/site-packages/bluesky/preprocessors.py\u001b[0m in \u001b[0;36mmonitor_during_wrapper\u001b[0;34m(plan, signals)\u001b[0m\n\u001b[1;32m    788\u001b[0m     \u001b[0mplan1\u001b[0m \u001b[0;34m=\u001b[0m \u001b[0mplan_mutator\u001b[0m\u001b[0;34m(\u001b[0m\u001b[0mplan\u001b[0m\u001b[0;34m,\u001b[0m \u001b[0minsert_after_open\u001b[0m\u001b[0;34m)\u001b[0m\u001b[0;34m\u001b[0m\u001b[0;34m\u001b[0m\u001b[0m\n\u001b[1;32m    789\u001b[0m     \u001b[0mplan2\u001b[0m \u001b[0;34m=\u001b[0m \u001b[0mplan_mutator\u001b[0m\u001b[0;34m(\u001b[0m\u001b[0mplan1\u001b[0m\u001b[0;34m,\u001b[0m \u001b[0minsert_before_close\u001b[0m\u001b[0;34m)\u001b[0m\u001b[0;34m\u001b[0m\u001b[0;34m\u001b[0m\u001b[0m\n\u001b[0;32m--> 790\u001b[0;31m     \u001b[0;32mreturn\u001b[0m \u001b[0;34m(\u001b[0m\u001b[0;32myield\u001b[0m \u001b[0;32mfrom\u001b[0m \u001b[0mplan2\u001b[0m\u001b[0;34m)\u001b[0m\u001b[0;34m\u001b[0m\u001b[0;34m\u001b[0m\u001b[0m\n\u001b[0m\u001b[1;32m    791\u001b[0m \u001b[0;34m\u001b[0m\u001b[0m\n\u001b[1;32m    792\u001b[0m \u001b[0;34m\u001b[0m\u001b[0m\n",
      "\u001b[0;32m/opt/conda_envs/collection-2019-3.0-fmx/lib/python3.7/site-packages/bluesky/preprocessors.py\u001b[0m in \u001b[0;36mplan_mutator\u001b[0;34m(plan, msg_proc)\u001b[0m\n\u001b[1;32m     75\u001b[0m             \u001b[0;31m# if we have a stashed exception, pass it along\u001b[0m\u001b[0;34m\u001b[0m\u001b[0;34m\u001b[0m\u001b[0;34m\u001b[0m\u001b[0m\n\u001b[1;32m     76\u001b[0m             \u001b[0;32mtry\u001b[0m\u001b[0;34m:\u001b[0m\u001b[0;34m\u001b[0m\u001b[0;34m\u001b[0m\u001b[0m\n\u001b[0;32m---> 77\u001b[0;31m                 \u001b[0mmsg\u001b[0m \u001b[0;34m=\u001b[0m \u001b[0mplan_stack\u001b[0m\u001b[0;34m[\u001b[0m\u001b[0;34m-\u001b[0m\u001b[0;36m1\u001b[0m\u001b[0;34m]\u001b[0m\u001b[0;34m.\u001b[0m\u001b[0mthrow\u001b[0m\u001b[0;34m(\u001b[0m\u001b[0mexception\u001b[0m\u001b[0;34m)\u001b[0m\u001b[0;34m\u001b[0m\u001b[0;34m\u001b[0m\u001b[0m\n\u001b[0m\u001b[1;32m     78\u001b[0m             \u001b[0;32mexcept\u001b[0m \u001b[0mStopIteration\u001b[0m \u001b[0;32mas\u001b[0m \u001b[0me\u001b[0m\u001b[0;34m:\u001b[0m\u001b[0;34m\u001b[0m\u001b[0;34m\u001b[0m\u001b[0m\n\u001b[1;32m     79\u001b[0m                 \u001b[0;31m# discard the exhausted generator\u001b[0m\u001b[0;34m\u001b[0m\u001b[0;34m\u001b[0m\u001b[0;34m\u001b[0m\u001b[0m\n",
      "\u001b[0;32m/opt/conda_envs/collection-2019-3.0-fmx/lib/python3.7/site-packages/bluesky/preprocessors.py\u001b[0m in \u001b[0;36mplan_mutator\u001b[0;34m(plan, msg_proc)\u001b[0m\n\u001b[1;32m     75\u001b[0m             \u001b[0;31m# if we have a stashed exception, pass it along\u001b[0m\u001b[0;34m\u001b[0m\u001b[0;34m\u001b[0m\u001b[0;34m\u001b[0m\u001b[0m\n\u001b[1;32m     76\u001b[0m             \u001b[0;32mtry\u001b[0m\u001b[0;34m:\u001b[0m\u001b[0;34m\u001b[0m\u001b[0;34m\u001b[0m\u001b[0m\n\u001b[0;32m---> 77\u001b[0;31m                 \u001b[0mmsg\u001b[0m \u001b[0;34m=\u001b[0m \u001b[0mplan_stack\u001b[0m\u001b[0;34m[\u001b[0m\u001b[0;34m-\u001b[0m\u001b[0;36m1\u001b[0m\u001b[0;34m]\u001b[0m\u001b[0;34m.\u001b[0m\u001b[0mthrow\u001b[0m\u001b[0;34m(\u001b[0m\u001b[0mexception\u001b[0m\u001b[0;34m)\u001b[0m\u001b[0;34m\u001b[0m\u001b[0;34m\u001b[0m\u001b[0m\n\u001b[0m\u001b[1;32m     78\u001b[0m             \u001b[0;32mexcept\u001b[0m \u001b[0mStopIteration\u001b[0m \u001b[0;32mas\u001b[0m \u001b[0me\u001b[0m\u001b[0;34m:\u001b[0m\u001b[0;34m\u001b[0m\u001b[0;34m\u001b[0m\u001b[0m\n\u001b[1;32m     79\u001b[0m                 \u001b[0;31m# discard the exhausted generator\u001b[0m\u001b[0;34m\u001b[0m\u001b[0;34m\u001b[0m\u001b[0;34m\u001b[0m\u001b[0m\n",
      "\u001b[0;32m/opt/conda_envs/collection-2019-3.0-fmx/lib/python3.7/site-packages/bluesky/preprocessors.py\u001b[0m in \u001b[0;36mfly_during_wrapper\u001b[0;34m(plan, flyers)\u001b[0m\n\u001b[1;32m    846\u001b[0m     \u001b[0mplan1\u001b[0m \u001b[0;34m=\u001b[0m \u001b[0mplan_mutator\u001b[0m\u001b[0;34m(\u001b[0m\u001b[0mplan\u001b[0m\u001b[0;34m,\u001b[0m \u001b[0minsert_after_open\u001b[0m\u001b[0;34m)\u001b[0m\u001b[0;34m\u001b[0m\u001b[0;34m\u001b[0m\u001b[0m\n\u001b[1;32m    847\u001b[0m     \u001b[0mplan2\u001b[0m \u001b[0;34m=\u001b[0m \u001b[0mplan_mutator\u001b[0m\u001b[0;34m(\u001b[0m\u001b[0mplan1\u001b[0m\u001b[0;34m,\u001b[0m \u001b[0minsert_before_close\u001b[0m\u001b[0;34m)\u001b[0m\u001b[0;34m\u001b[0m\u001b[0;34m\u001b[0m\u001b[0m\n\u001b[0;32m--> 848\u001b[0;31m     \u001b[0;32mreturn\u001b[0m \u001b[0;34m(\u001b[0m\u001b[0;32myield\u001b[0m \u001b[0;32mfrom\u001b[0m \u001b[0mplan2\u001b[0m\u001b[0;34m)\u001b[0m\u001b[0;34m\u001b[0m\u001b[0;34m\u001b[0m\u001b[0m\n\u001b[0m\u001b[1;32m    849\u001b[0m \u001b[0;34m\u001b[0m\u001b[0m\n\u001b[1;32m    850\u001b[0m \u001b[0;34m\u001b[0m\u001b[0m\n",
      "\u001b[0;32m/opt/conda_envs/collection-2019-3.0-fmx/lib/python3.7/site-packages/bluesky/preprocessors.py\u001b[0m in \u001b[0;36mplan_mutator\u001b[0;34m(plan, msg_proc)\u001b[0m\n\u001b[1;32m     75\u001b[0m             \u001b[0;31m# if we have a stashed exception, pass it along\u001b[0m\u001b[0;34m\u001b[0m\u001b[0;34m\u001b[0m\u001b[0;34m\u001b[0m\u001b[0m\n\u001b[1;32m     76\u001b[0m             \u001b[0;32mtry\u001b[0m\u001b[0;34m:\u001b[0m\u001b[0;34m\u001b[0m\u001b[0;34m\u001b[0m\u001b[0m\n\u001b[0;32m---> 77\u001b[0;31m                 \u001b[0mmsg\u001b[0m \u001b[0;34m=\u001b[0m \u001b[0mplan_stack\u001b[0m\u001b[0;34m[\u001b[0m\u001b[0;34m-\u001b[0m\u001b[0;36m1\u001b[0m\u001b[0;34m]\u001b[0m\u001b[0;34m.\u001b[0m\u001b[0mthrow\u001b[0m\u001b[0;34m(\u001b[0m\u001b[0mexception\u001b[0m\u001b[0;34m)\u001b[0m\u001b[0;34m\u001b[0m\u001b[0;34m\u001b[0m\u001b[0m\n\u001b[0m\u001b[1;32m     78\u001b[0m             \u001b[0;32mexcept\u001b[0m \u001b[0mStopIteration\u001b[0m \u001b[0;32mas\u001b[0m \u001b[0me\u001b[0m\u001b[0;34m:\u001b[0m\u001b[0;34m\u001b[0m\u001b[0;34m\u001b[0m\u001b[0m\n\u001b[1;32m     79\u001b[0m                 \u001b[0;31m# discard the exhausted generator\u001b[0m\u001b[0;34m\u001b[0m\u001b[0;34m\u001b[0m\u001b[0;34m\u001b[0m\u001b[0m\n",
      "\u001b[0;32m/opt/conda_envs/collection-2019-3.0-fmx/lib/python3.7/site-packages/bluesky/preprocessors.py\u001b[0m in \u001b[0;36mplan_mutator\u001b[0;34m(plan, msg_proc)\u001b[0m\n\u001b[1;32m     75\u001b[0m             \u001b[0;31m# if we have a stashed exception, pass it along\u001b[0m\u001b[0;34m\u001b[0m\u001b[0;34m\u001b[0m\u001b[0;34m\u001b[0m\u001b[0m\n\u001b[1;32m     76\u001b[0m             \u001b[0;32mtry\u001b[0m\u001b[0;34m:\u001b[0m\u001b[0;34m\u001b[0m\u001b[0;34m\u001b[0m\u001b[0m\n\u001b[0;32m---> 77\u001b[0;31m                 \u001b[0mmsg\u001b[0m \u001b[0;34m=\u001b[0m \u001b[0mplan_stack\u001b[0m\u001b[0;34m[\u001b[0m\u001b[0;34m-\u001b[0m\u001b[0;36m1\u001b[0m\u001b[0;34m]\u001b[0m\u001b[0;34m.\u001b[0m\u001b[0mthrow\u001b[0m\u001b[0;34m(\u001b[0m\u001b[0mexception\u001b[0m\u001b[0;34m)\u001b[0m\u001b[0;34m\u001b[0m\u001b[0;34m\u001b[0m\u001b[0m\n\u001b[0m\u001b[1;32m     78\u001b[0m             \u001b[0;32mexcept\u001b[0m \u001b[0mStopIteration\u001b[0m \u001b[0;32mas\u001b[0m \u001b[0me\u001b[0m\u001b[0;34m:\u001b[0m\u001b[0;34m\u001b[0m\u001b[0;34m\u001b[0m\u001b[0m\n\u001b[1;32m     79\u001b[0m                 \u001b[0;31m# discard the exhausted generator\u001b[0m\u001b[0;34m\u001b[0m\u001b[0;34m\u001b[0m\u001b[0;34m\u001b[0m\u001b[0m\n",
      "\u001b[0;32m~/.ipython/profile_collection/startup/95-custom_plans.py\u001b[0m in \u001b[0;36mset_energy\u001b[0;34m(energy, use_diode)\u001b[0m\n\u001b[1;32m    523\u001b[0m         \u001b[0;31m#*lut(vdcm.g),    # Set DCM Gap interpolated position\u001b[0m\u001b[0;34m\u001b[0m\u001b[0;34m\u001b[0m\u001b[0;34m\u001b[0m\u001b[0m\n\u001b[1;32m    524\u001b[0m         \u001b[0;34m*\u001b[0m\u001b[0mlut\u001b[0m\u001b[0;34m(\u001b[0m\u001b[0mvdcm\u001b[0m\u001b[0;34m.\u001b[0m\u001b[0mr\u001b[0m\u001b[0;34m)\u001b[0m\u001b[0;34m,\u001b[0m     \u001b[0;31m# Set DCM Roll interpolated position\u001b[0m\u001b[0;34m\u001b[0m\u001b[0;34m\u001b[0m\u001b[0m\n\u001b[0;32m--> 525\u001b[0;31m         \u001b[0;34m*\u001b[0m\u001b[0mlgp\u001b[0m\u001b[0;34m(\u001b[0m\u001b[0mvdcm\u001b[0m\u001b[0;34m.\u001b[0m\u001b[0mp\u001b[0m\u001b[0;34m)\u001b[0m\u001b[0;34m,\u001b[0m     \u001b[0;31m# Set Pitch to last known good position\u001b[0m\u001b[0;34m\u001b[0m\u001b[0;34m\u001b[0m\u001b[0m\n\u001b[0m\u001b[1;32m    526\u001b[0m \u001b[0;34m\u001b[0m\u001b[0m\n\u001b[1;32m    527\u001b[0m         \u001b[0;31m# Set KB from known good setpoints\u001b[0m\u001b[0;34m\u001b[0m\u001b[0;34m\u001b[0m\u001b[0;34m\u001b[0m\u001b[0m\n",
      "\u001b[0;32m/opt/conda_envs/collection-2019-3.0-fmx/lib/python3.7/site-packages/bluesky/plan_stubs.py\u001b[0m in \u001b[0;36mmv\u001b[0;34m(*args)\u001b[0m\n\u001b[1;32m    243\u001b[0m     \u001b[0mstep\u001b[0m\u001b[0;34m,\u001b[0m \u001b[0;34m=\u001b[0m \u001b[0mutils\u001b[0m\u001b[0;34m.\u001b[0m\u001b[0mmerge_cycler\u001b[0m\u001b[0;34m(\u001b[0m\u001b[0mcyl\u001b[0m\u001b[0;34m)\u001b[0m\u001b[0;34m\u001b[0m\u001b[0;34m\u001b[0m\u001b[0m\n\u001b[1;32m    244\u001b[0m     \u001b[0;32mfor\u001b[0m \u001b[0mobj\u001b[0m\u001b[0;34m,\u001b[0m \u001b[0mval\u001b[0m \u001b[0;32min\u001b[0m \u001b[0mstep\u001b[0m\u001b[0;34m.\u001b[0m\u001b[0mitems\u001b[0m\u001b[0;34m(\u001b[0m\u001b[0;34m)\u001b[0m\u001b[0;34m:\u001b[0m\u001b[0;34m\u001b[0m\u001b[0;34m\u001b[0m\u001b[0m\n\u001b[0;32m--> 245\u001b[0;31m         \u001b[0mret\u001b[0m \u001b[0;34m=\u001b[0m \u001b[0;32myield\u001b[0m \u001b[0mMsg\u001b[0m\u001b[0;34m(\u001b[0m\u001b[0;34m'set'\u001b[0m\u001b[0;34m,\u001b[0m \u001b[0mobj\u001b[0m\u001b[0;34m,\u001b[0m \u001b[0mval\u001b[0m\u001b[0;34m,\u001b[0m \u001b[0mgroup\u001b[0m\u001b[0;34m=\u001b[0m\u001b[0mgroup\u001b[0m\u001b[0;34m)\u001b[0m\u001b[0;34m\u001b[0m\u001b[0;34m\u001b[0m\u001b[0m\n\u001b[0m\u001b[1;32m    246\u001b[0m         \u001b[0mstatus_objects\u001b[0m\u001b[0;34m.\u001b[0m\u001b[0mappend\u001b[0m\u001b[0;34m(\u001b[0m\u001b[0mret\u001b[0m\u001b[0;34m)\u001b[0m\u001b[0;34m\u001b[0m\u001b[0;34m\u001b[0m\u001b[0m\n\u001b[1;32m    247\u001b[0m     \u001b[0;32myield\u001b[0m \u001b[0mMsg\u001b[0m\u001b[0;34m(\u001b[0m\u001b[0;34m'wait'\u001b[0m\u001b[0;34m,\u001b[0m \u001b[0;32mNone\u001b[0m\u001b[0;34m,\u001b[0m \u001b[0mgroup\u001b[0m\u001b[0;34m=\u001b[0m\u001b[0mgroup\u001b[0m\u001b[0;34m)\u001b[0m\u001b[0;34m\u001b[0m\u001b[0;34m\u001b[0m\u001b[0m\n",
      "\u001b[0;32m/opt/conda_envs/collection-2019-3.0-fmx/lib/python3.7/site-packages/bluesky/preprocessors.py\u001b[0m in \u001b[0;36mplan_mutator\u001b[0;34m(plan, msg_proc)\u001b[0m\n\u001b[1;32m    192\u001b[0m         \u001b[0;32mtry\u001b[0m\u001b[0;34m:\u001b[0m\u001b[0;34m\u001b[0m\u001b[0;34m\u001b[0m\u001b[0m\n\u001b[1;32m    193\u001b[0m             \u001b[0;31m# yield out the 'current message' and collect the return\u001b[0m\u001b[0;34m\u001b[0m\u001b[0;34m\u001b[0m\u001b[0;34m\u001b[0m\u001b[0m\n\u001b[0;32m--> 194\u001b[0;31m             \u001b[0minner_ret\u001b[0m \u001b[0;34m=\u001b[0m \u001b[0;32myield\u001b[0m \u001b[0mmsg\u001b[0m\u001b[0;34m\u001b[0m\u001b[0;34m\u001b[0m\u001b[0m\n\u001b[0m\u001b[1;32m    195\u001b[0m         \u001b[0;32mexcept\u001b[0m \u001b[0mGeneratorExit\u001b[0m\u001b[0;34m:\u001b[0m\u001b[0;34m\u001b[0m\u001b[0;34m\u001b[0m\u001b[0m\n\u001b[1;32m    196\u001b[0m             \u001b[0;31m# special case GeneratorExit.  We must clean up all of our plans\u001b[0m\u001b[0;34m\u001b[0m\u001b[0;34m\u001b[0m\u001b[0;34m\u001b[0m\u001b[0m\n",
      "\u001b[0;32m/opt/conda_envs/collection-2019-3.0-fmx/lib/python3.7/site-packages/bluesky/preprocessors.py\u001b[0m in \u001b[0;36mplan_mutator\u001b[0;34m(plan, msg_proc)\u001b[0m\n\u001b[1;32m    192\u001b[0m         \u001b[0;32mtry\u001b[0m\u001b[0;34m:\u001b[0m\u001b[0;34m\u001b[0m\u001b[0;34m\u001b[0m\u001b[0m\n\u001b[1;32m    193\u001b[0m             \u001b[0;31m# yield out the 'current message' and collect the return\u001b[0m\u001b[0;34m\u001b[0m\u001b[0;34m\u001b[0m\u001b[0;34m\u001b[0m\u001b[0m\n\u001b[0;32m--> 194\u001b[0;31m             \u001b[0minner_ret\u001b[0m \u001b[0;34m=\u001b[0m \u001b[0;32myield\u001b[0m \u001b[0mmsg\u001b[0m\u001b[0;34m\u001b[0m\u001b[0;34m\u001b[0m\u001b[0m\n\u001b[0m\u001b[1;32m    195\u001b[0m         \u001b[0;32mexcept\u001b[0m \u001b[0mGeneratorExit\u001b[0m\u001b[0;34m:\u001b[0m\u001b[0;34m\u001b[0m\u001b[0;34m\u001b[0m\u001b[0m\n\u001b[1;32m    196\u001b[0m             \u001b[0;31m# special case GeneratorExit.  We must clean up all of our plans\u001b[0m\u001b[0;34m\u001b[0m\u001b[0;34m\u001b[0m\u001b[0;34m\u001b[0m\u001b[0m\n",
      "\u001b[0;32m/opt/conda_envs/collection-2019-3.0-fmx/lib/python3.7/site-packages/bluesky/preprocessors.py\u001b[0m in \u001b[0;36mplan_mutator\u001b[0;34m(plan, msg_proc)\u001b[0m\n\u001b[1;32m    192\u001b[0m         \u001b[0;32mtry\u001b[0m\u001b[0;34m:\u001b[0m\u001b[0;34m\u001b[0m\u001b[0;34m\u001b[0m\u001b[0m\n\u001b[1;32m    193\u001b[0m             \u001b[0;31m# yield out the 'current message' and collect the return\u001b[0m\u001b[0;34m\u001b[0m\u001b[0;34m\u001b[0m\u001b[0;34m\u001b[0m\u001b[0m\n\u001b[0;32m--> 194\u001b[0;31m             \u001b[0minner_ret\u001b[0m \u001b[0;34m=\u001b[0m \u001b[0;32myield\u001b[0m \u001b[0mmsg\u001b[0m\u001b[0;34m\u001b[0m\u001b[0;34m\u001b[0m\u001b[0m\n\u001b[0m\u001b[1;32m    195\u001b[0m         \u001b[0;32mexcept\u001b[0m \u001b[0mGeneratorExit\u001b[0m\u001b[0;34m:\u001b[0m\u001b[0;34m\u001b[0m\u001b[0;34m\u001b[0m\u001b[0m\n\u001b[1;32m    196\u001b[0m             \u001b[0;31m# special case GeneratorExit.  We must clean up all of our plans\u001b[0m\u001b[0;34m\u001b[0m\u001b[0;34m\u001b[0m\u001b[0;34m\u001b[0m\u001b[0m\n",
      "\u001b[0;32m/opt/conda_envs/collection-2019-3.0-fmx/lib/python3.7/site-packages/bluesky/preprocessors.py\u001b[0m in \u001b[0;36mplan_mutator\u001b[0;34m(plan, msg_proc)\u001b[0m\n\u001b[1;32m    192\u001b[0m         \u001b[0;32mtry\u001b[0m\u001b[0;34m:\u001b[0m\u001b[0;34m\u001b[0m\u001b[0;34m\u001b[0m\u001b[0m\n\u001b[1;32m    193\u001b[0m             \u001b[0;31m# yield out the 'current message' and collect the return\u001b[0m\u001b[0;34m\u001b[0m\u001b[0;34m\u001b[0m\u001b[0;34m\u001b[0m\u001b[0m\n\u001b[0;32m--> 194\u001b[0;31m             \u001b[0minner_ret\u001b[0m \u001b[0;34m=\u001b[0m \u001b[0;32myield\u001b[0m \u001b[0mmsg\u001b[0m\u001b[0;34m\u001b[0m\u001b[0;34m\u001b[0m\u001b[0m\n\u001b[0m\u001b[1;32m    195\u001b[0m         \u001b[0;32mexcept\u001b[0m \u001b[0mGeneratorExit\u001b[0m\u001b[0;34m:\u001b[0m\u001b[0;34m\u001b[0m\u001b[0;34m\u001b[0m\u001b[0m\n\u001b[1;32m    196\u001b[0m             \u001b[0;31m# special case GeneratorExit.  We must clean up all of our plans\u001b[0m\u001b[0;34m\u001b[0m\u001b[0;34m\u001b[0m\u001b[0;34m\u001b[0m\u001b[0m\n",
      "\u001b[0;32m/opt/conda_envs/collection-2019-3.0-fmx/lib/python3.7/site-packages/bluesky/run_engine.py\u001b[0m in \u001b[0;36m_run\u001b[0;34m(self)\u001b[0m\n\u001b[1;32m   1206\u001b[0m                         \u001b[0;31m# exceptions (coming in via throw) can be\u001b[0m\u001b[0;34m\u001b[0m\u001b[0;34m\u001b[0m\u001b[0;34m\u001b[0m\u001b[0m\n\u001b[1;32m   1207\u001b[0m                         \u001b[0;31m# raised\u001b[0m\u001b[0;34m\u001b[0m\u001b[0;34m\u001b[0m\u001b[0;34m\u001b[0m\u001b[0m\n\u001b[0;32m-> 1208\u001b[0;31m                         \u001b[0mnew_response\u001b[0m \u001b[0;34m=\u001b[0m \u001b[0;32myield\u001b[0m \u001b[0;32mfrom\u001b[0m \u001b[0mcoro\u001b[0m\u001b[0;34m(\u001b[0m\u001b[0mmsg\u001b[0m\u001b[0;34m)\u001b[0m\u001b[0;34m\u001b[0m\u001b[0;34m\u001b[0m\u001b[0m\n\u001b[0m\u001b[1;32m   1209\u001b[0m \u001b[0;34m\u001b[0m\u001b[0m\n\u001b[1;32m   1210\u001b[0m                     \u001b[0;31m# special case `CancelledError` and let the outer\u001b[0m\u001b[0;34m\u001b[0m\u001b[0;34m\u001b[0m\u001b[0;34m\u001b[0m\u001b[0m\n",
      "\u001b[0;32m/opt/conda_envs/collection-2019-3.0-fmx/lib/python3.7/asyncio/coroutines.py\u001b[0m in \u001b[0;36mcoro\u001b[0;34m(*args, **kw)\u001b[0m\n\u001b[1;32m    118\u001b[0m         \u001b[0;34m@\u001b[0m\u001b[0mfunctools\u001b[0m\u001b[0;34m.\u001b[0m\u001b[0mwraps\u001b[0m\u001b[0;34m(\u001b[0m\u001b[0mfunc\u001b[0m\u001b[0;34m)\u001b[0m\u001b[0;34m\u001b[0m\u001b[0;34m\u001b[0m\u001b[0m\n\u001b[1;32m    119\u001b[0m         \u001b[0;32mdef\u001b[0m \u001b[0mcoro\u001b[0m\u001b[0;34m(\u001b[0m\u001b[0;34m*\u001b[0m\u001b[0margs\u001b[0m\u001b[0;34m,\u001b[0m \u001b[0;34m**\u001b[0m\u001b[0mkw\u001b[0m\u001b[0;34m)\u001b[0m\u001b[0;34m:\u001b[0m\u001b[0;34m\u001b[0m\u001b[0;34m\u001b[0m\u001b[0m\n\u001b[0;32m--> 120\u001b[0;31m             \u001b[0mres\u001b[0m \u001b[0;34m=\u001b[0m \u001b[0mfunc\u001b[0m\u001b[0;34m(\u001b[0m\u001b[0;34m*\u001b[0m\u001b[0margs\u001b[0m\u001b[0;34m,\u001b[0m \u001b[0;34m**\u001b[0m\u001b[0mkw\u001b[0m\u001b[0;34m)\u001b[0m\u001b[0;34m\u001b[0m\u001b[0;34m\u001b[0m\u001b[0m\n\u001b[0m\u001b[1;32m    121\u001b[0m             if (base_futures.isfuture(res) or inspect.isgenerator(res) or\n\u001b[1;32m    122\u001b[0m                     isinstance(res, CoroWrapper)):\n",
      "\u001b[0;32m/opt/conda_envs/collection-2019-3.0-fmx/lib/python3.7/site-packages/bluesky/run_engine.py\u001b[0m in \u001b[0;36m_set\u001b[0;34m(self, msg)\u001b[0m\n\u001b[1;32m   1953\u001b[0m         \u001b[0mgroup\u001b[0m \u001b[0;34m=\u001b[0m \u001b[0mkwargs\u001b[0m\u001b[0;34m.\u001b[0m\u001b[0mpop\u001b[0m\u001b[0;34m(\u001b[0m\u001b[0;34m'group'\u001b[0m\u001b[0;34m,\u001b[0m \u001b[0;32mNone\u001b[0m\u001b[0;34m)\u001b[0m\u001b[0;34m\u001b[0m\u001b[0;34m\u001b[0m\u001b[0m\n\u001b[1;32m   1954\u001b[0m         \u001b[0mself\u001b[0m\u001b[0;34m.\u001b[0m\u001b[0m_movable_objs_touched\u001b[0m\u001b[0;34m.\u001b[0m\u001b[0madd\u001b[0m\u001b[0;34m(\u001b[0m\u001b[0mmsg\u001b[0m\u001b[0;34m.\u001b[0m\u001b[0mobj\u001b[0m\u001b[0;34m)\u001b[0m\u001b[0;34m\u001b[0m\u001b[0;34m\u001b[0m\u001b[0m\n\u001b[0;32m-> 1955\u001b[0;31m         \u001b[0mret\u001b[0m \u001b[0;34m=\u001b[0m \u001b[0mmsg\u001b[0m\u001b[0;34m.\u001b[0m\u001b[0mobj\u001b[0m\u001b[0;34m.\u001b[0m\u001b[0mset\u001b[0m\u001b[0;34m(\u001b[0m\u001b[0;34m*\u001b[0m\u001b[0mmsg\u001b[0m\u001b[0;34m.\u001b[0m\u001b[0margs\u001b[0m\u001b[0;34m,\u001b[0m \u001b[0;34m**\u001b[0m\u001b[0mkwargs\u001b[0m\u001b[0;34m)\u001b[0m\u001b[0;34m\u001b[0m\u001b[0;34m\u001b[0m\u001b[0m\n\u001b[0m\u001b[1;32m   1956\u001b[0m         \u001b[0mp_event\u001b[0m \u001b[0;34m=\u001b[0m \u001b[0masyncio\u001b[0m\u001b[0;34m.\u001b[0m\u001b[0mEvent\u001b[0m\u001b[0;34m(\u001b[0m\u001b[0mloop\u001b[0m\u001b[0;34m=\u001b[0m\u001b[0mself\u001b[0m\u001b[0;34m.\u001b[0m\u001b[0mloop\u001b[0m\u001b[0;34m)\u001b[0m\u001b[0;34m\u001b[0m\u001b[0;34m\u001b[0m\u001b[0m\n\u001b[1;32m   1957\u001b[0m         \u001b[0mpardon_failures\u001b[0m \u001b[0;34m=\u001b[0m \u001b[0mself\u001b[0m\u001b[0;34m.\u001b[0m\u001b[0m_pardon_failures\u001b[0m\u001b[0;34m\u001b[0m\u001b[0;34m\u001b[0m\u001b[0m\n",
      "\u001b[0;32m~/.ipython/profile_collection/startup/09-machine.py\u001b[0m in \u001b[0;36mset\u001b[0;34m(self, *args, **kwargs)\u001b[0m\n\u001b[1;32m     15\u001b[0m \u001b[0;34m\u001b[0m\u001b[0m\n\u001b[1;32m     16\u001b[0m     \u001b[0;32mdef\u001b[0m \u001b[0mset\u001b[0m\u001b[0;34m(\u001b[0m\u001b[0mself\u001b[0m\u001b[0;34m,\u001b[0m \u001b[0;34m*\u001b[0m\u001b[0margs\u001b[0m\u001b[0;34m,\u001b[0m \u001b[0;34m**\u001b[0m\u001b[0mkwargs\u001b[0m\u001b[0;34m)\u001b[0m\u001b[0;34m:\u001b[0m\u001b[0;34m\u001b[0m\u001b[0;34m\u001b[0m\u001b[0m\n\u001b[0;32m---> 17\u001b[0;31m         \u001b[0mset_and_wait\u001b[0m\u001b[0;34m(\u001b[0m\u001b[0mself\u001b[0m\u001b[0;34m.\u001b[0m\u001b[0mbrake\u001b[0m\u001b[0;34m,\u001b[0m \u001b[0;36m1\u001b[0m\u001b[0;34m)\u001b[0m\u001b[0;34m\u001b[0m\u001b[0;34m\u001b[0m\u001b[0m\n\u001b[0m\u001b[1;32m     18\u001b[0m         \u001b[0;32mreturn\u001b[0m \u001b[0mself\u001b[0m\u001b[0;34m.\u001b[0m\u001b[0mgap\u001b[0m\u001b[0;34m.\u001b[0m\u001b[0mset\u001b[0m\u001b[0;34m(\u001b[0m\u001b[0;34m*\u001b[0m\u001b[0margs\u001b[0m\u001b[0;34m,\u001b[0m \u001b[0;34m**\u001b[0m\u001b[0mkwargs\u001b[0m\u001b[0;34m)\u001b[0m\u001b[0;34m\u001b[0m\u001b[0;34m\u001b[0m\u001b[0m\n\u001b[1;32m     19\u001b[0m \u001b[0;34m\u001b[0m\u001b[0m\n",
      "\u001b[0;32m/opt/conda_envs/collection-2019-3.0-fmx/lib/python3.7/site-packages/ophyd/utils/epics_pvs.py\u001b[0m in \u001b[0;36mset_and_wait\u001b[0;34m(signal, val, poll_time, timeout, rtol, atol)\u001b[0m\n\u001b[1;32m    226\u001b[0m     \u001b[0mTimeoutError\u001b[0m \u001b[0;32mif\u001b[0m \u001b[0mtimeout\u001b[0m \u001b[0;32mis\u001b[0m \u001b[0mexceeded\u001b[0m\u001b[0;34m\u001b[0m\u001b[0;34m\u001b[0m\u001b[0m\n\u001b[1;32m    227\u001b[0m     \"\"\"\n\u001b[0;32m--> 228\u001b[0;31m     \u001b[0msignal\u001b[0m\u001b[0;34m.\u001b[0m\u001b[0mput\u001b[0m\u001b[0;34m(\u001b[0m\u001b[0mval\u001b[0m\u001b[0;34m)\u001b[0m\u001b[0;34m\u001b[0m\u001b[0;34m\u001b[0m\u001b[0m\n\u001b[0m\u001b[1;32m    229\u001b[0m     \u001b[0mexpiration_time\u001b[0m \u001b[0;34m=\u001b[0m \u001b[0mttime\u001b[0m\u001b[0;34m.\u001b[0m\u001b[0mtime\u001b[0m\u001b[0;34m(\u001b[0m\u001b[0;34m)\u001b[0m \u001b[0;34m+\u001b[0m \u001b[0mtimeout\u001b[0m \u001b[0;32mif\u001b[0m \u001b[0mtimeout\u001b[0m \u001b[0;32mis\u001b[0m \u001b[0;32mnot\u001b[0m \u001b[0;32mNone\u001b[0m \u001b[0;32melse\u001b[0m \u001b[0;32mNone\u001b[0m\u001b[0;34m\u001b[0m\u001b[0;34m\u001b[0m\u001b[0m\n\u001b[1;32m    230\u001b[0m     \u001b[0mcurrent_value\u001b[0m \u001b[0;34m=\u001b[0m \u001b[0msignal\u001b[0m\u001b[0;34m.\u001b[0m\u001b[0mget\u001b[0m\u001b[0;34m(\u001b[0m\u001b[0;34m)\u001b[0m\u001b[0;34m\u001b[0m\u001b[0;34m\u001b[0m\u001b[0m\n",
      "\u001b[0;32m/opt/conda_envs/collection-2019-3.0-fmx/lib/python3.7/site-packages/ophyd/signal.py\u001b[0m in \u001b[0;36mput\u001b[0;34m(self, value, force, connection_timeout, use_complete, **kwargs)\u001b[0m\n\u001b[1;32m    898\u001b[0m                 \u001b[0muse_complete\u001b[0m \u001b[0;34m=\u001b[0m \u001b[0mself\u001b[0m\u001b[0;34m.\u001b[0m\u001b[0m_put_complete\u001b[0m\u001b[0;34m\u001b[0m\u001b[0;34m\u001b[0m\u001b[0m\n\u001b[1;32m    899\u001b[0m \u001b[0;34m\u001b[0m\u001b[0m\n\u001b[0;32m--> 900\u001b[0;31m             \u001b[0mself\u001b[0m\u001b[0;34m.\u001b[0m\u001b[0m_write_pv\u001b[0m\u001b[0;34m.\u001b[0m\u001b[0mput\u001b[0m\u001b[0;34m(\u001b[0m\u001b[0mvalue\u001b[0m\u001b[0;34m,\u001b[0m \u001b[0muse_complete\u001b[0m\u001b[0;34m=\u001b[0m\u001b[0muse_complete\u001b[0m\u001b[0;34m,\u001b[0m \u001b[0;34m**\u001b[0m\u001b[0mkwargs\u001b[0m\u001b[0;34m)\u001b[0m\u001b[0;34m\u001b[0m\u001b[0;34m\u001b[0m\u001b[0m\n\u001b[0m\u001b[1;32m    901\u001b[0m \u001b[0;34m\u001b[0m\u001b[0m\n\u001b[1;32m    902\u001b[0m         \u001b[0mold_value\u001b[0m \u001b[0;34m=\u001b[0m \u001b[0mself\u001b[0m\u001b[0;34m.\u001b[0m\u001b[0m_setpoint\u001b[0m\u001b[0;34m\u001b[0m\u001b[0;34m\u001b[0m\u001b[0m\n",
      "\u001b[0;32m/opt/conda_envs/collection-2019-3.0-fmx/lib/python3.7/site-packages/epics/pv.py\u001b[0m in \u001b[0;36mput\u001b[0;34m(self, value, wait, timeout, use_complete, callback, callback_data)\u001b[0m\n\u001b[1;32m    393\u001b[0m                       \u001b[0mwait\u001b[0m\u001b[0;34m=\u001b[0m\u001b[0mwait\u001b[0m\u001b[0;34m,\u001b[0m \u001b[0mtimeout\u001b[0m\u001b[0;34m=\u001b[0m\u001b[0mtimeout\u001b[0m\u001b[0;34m,\u001b[0m\u001b[0;34m\u001b[0m\u001b[0;34m\u001b[0m\u001b[0m\n\u001b[1;32m    394\u001b[0m                       \u001b[0mcallback\u001b[0m\u001b[0;34m=\u001b[0m\u001b[0mcallback\u001b[0m\u001b[0;34m,\u001b[0m\u001b[0;34m\u001b[0m\u001b[0;34m\u001b[0m\u001b[0m\n\u001b[0;32m--> 395\u001b[0;31m                       callback_data=callback_data)\n\u001b[0m\u001b[1;32m    396\u001b[0m \u001b[0;34m\u001b[0m\u001b[0m\n\u001b[1;32m    397\u001b[0m     \u001b[0;32mdef\u001b[0m \u001b[0m__putCallbackStub\u001b[0m\u001b[0;34m(\u001b[0m\u001b[0mself\u001b[0m\u001b[0;34m,\u001b[0m \u001b[0mpvname\u001b[0m\u001b[0;34m=\u001b[0m\u001b[0;32mNone\u001b[0m\u001b[0;34m,\u001b[0m \u001b[0;34m**\u001b[0m\u001b[0mkws\u001b[0m\u001b[0;34m)\u001b[0m\u001b[0;34m:\u001b[0m\u001b[0;34m\u001b[0m\u001b[0;34m\u001b[0m\u001b[0m\n",
      "\u001b[0;32m/opt/conda_envs/collection-2019-3.0-fmx/lib/python3.7/site-packages/epics/ca.py\u001b[0m in \u001b[0;36mwrapper\u001b[0;34m(*args, **kwds)\u001b[0m\n\u001b[1;32m    437\u001b[0m                                                         name(chid), timeout))\n\u001b[1;32m    438\u001b[0m \u001b[0;34m\u001b[0m\u001b[0m\n\u001b[0;32m--> 439\u001b[0;31m         \u001b[0;32mreturn\u001b[0m \u001b[0mfcn\u001b[0m\u001b[0;34m(\u001b[0m\u001b[0;34m*\u001b[0m\u001b[0margs\u001b[0m\u001b[0;34m,\u001b[0m \u001b[0;34m**\u001b[0m\u001b[0mkwds\u001b[0m\u001b[0;34m)\u001b[0m\u001b[0;34m\u001b[0m\u001b[0;34m\u001b[0m\u001b[0m\n\u001b[0m\u001b[1;32m    440\u001b[0m     \u001b[0mwrapper\u001b[0m\u001b[0;34m.\u001b[0m\u001b[0m__doc__\u001b[0m \u001b[0;34m=\u001b[0m \u001b[0mfcn\u001b[0m\u001b[0;34m.\u001b[0m\u001b[0m__doc__\u001b[0m\u001b[0;34m\u001b[0m\u001b[0;34m\u001b[0m\u001b[0m\n\u001b[1;32m    441\u001b[0m     \u001b[0mwrapper\u001b[0m\u001b[0;34m.\u001b[0m\u001b[0m__name__\u001b[0m \u001b[0;34m=\u001b[0m \u001b[0mfcn\u001b[0m\u001b[0;34m.\u001b[0m\u001b[0m__name__\u001b[0m\u001b[0;34m\u001b[0m\u001b[0;34m\u001b[0m\u001b[0m\n",
      "\u001b[0;32m/opt/conda_envs/collection-2019-3.0-fmx/lib/python3.7/site-packages/epics/ca.py\u001b[0m in \u001b[0;36mput\u001b[0;34m(chid, value, wait, timeout, callback, callback_data)\u001b[0m\n\u001b[1;32m   1441\u001b[0m     \u001b[0;32mif\u001b[0m \u001b[0;32mnot\u001b[0m \u001b[0;34m(\u001b[0m\u001b[0mwait\u001b[0m \u001b[0;32mor\u001b[0m \u001b[0mhasattr\u001b[0m\u001b[0;34m(\u001b[0m\u001b[0mcallback\u001b[0m\u001b[0;34m,\u001b[0m \u001b[0;34m'__call__'\u001b[0m\u001b[0;34m)\u001b[0m\u001b[0;34m)\u001b[0m\u001b[0;34m:\u001b[0m\u001b[0;34m\u001b[0m\u001b[0;34m\u001b[0m\u001b[0m\n\u001b[1;32m   1442\u001b[0m         \u001b[0mret\u001b[0m \u001b[0;34m=\u001b[0m \u001b[0mlibca\u001b[0m\u001b[0;34m.\u001b[0m\u001b[0mca_array_put\u001b[0m\u001b[0;34m(\u001b[0m\u001b[0mftype\u001b[0m\u001b[0;34m,\u001b[0m \u001b[0mcount\u001b[0m\u001b[0;34m,\u001b[0m \u001b[0mchid\u001b[0m\u001b[0;34m,\u001b[0m \u001b[0mdata\u001b[0m\u001b[0;34m)\u001b[0m\u001b[0;34m\u001b[0m\u001b[0;34m\u001b[0m\u001b[0m\n\u001b[0;32m-> 1443\u001b[0;31m         \u001b[0mPySEVCHK\u001b[0m\u001b[0;34m(\u001b[0m\u001b[0;34m'put'\u001b[0m\u001b[0;34m,\u001b[0m \u001b[0mret\u001b[0m\u001b[0;34m)\u001b[0m\u001b[0;34m\u001b[0m\u001b[0;34m\u001b[0m\u001b[0m\n\u001b[0m\u001b[1;32m   1444\u001b[0m         \u001b[0mpoll\u001b[0m\u001b[0;34m(\u001b[0m\u001b[0;34m)\u001b[0m\u001b[0;34m\u001b[0m\u001b[0;34m\u001b[0m\u001b[0m\n\u001b[1;32m   1445\u001b[0m         \u001b[0;32mreturn\u001b[0m \u001b[0mret\u001b[0m\u001b[0;34m\u001b[0m\u001b[0;34m\u001b[0m\u001b[0m\n",
      "\u001b[0;32m/opt/conda_envs/collection-2019-3.0-fmx/lib/python3.7/site-packages/epics/ca.py\u001b[0m in \u001b[0;36mPySEVCHK\u001b[0;34m(func_name, status, expected)\u001b[0m\n\u001b[1;32m    466\u001b[0m     \u001b[0;32mif\u001b[0m \u001b[0mstatus\u001b[0m \u001b[0;34m==\u001b[0m \u001b[0mexpected\u001b[0m\u001b[0;34m:\u001b[0m\u001b[0;34m\u001b[0m\u001b[0;34m\u001b[0m\u001b[0m\n\u001b[1;32m    467\u001b[0m         \u001b[0;32mreturn\u001b[0m \u001b[0mstatus\u001b[0m\u001b[0;34m\u001b[0m\u001b[0;34m\u001b[0m\u001b[0m\n\u001b[0;32m--> 468\u001b[0;31m     \u001b[0;32mraise\u001b[0m \u001b[0mCASeverityException\u001b[0m\u001b[0;34m(\u001b[0m\u001b[0mfunc_name\u001b[0m\u001b[0;34m,\u001b[0m \u001b[0mmessage\u001b[0m\u001b[0;34m(\u001b[0m\u001b[0mstatus\u001b[0m\u001b[0;34m)\u001b[0m\u001b[0;34m)\u001b[0m\u001b[0;34m\u001b[0m\u001b[0;34m\u001b[0m\u001b[0m\n\u001b[0m\u001b[1;32m    469\u001b[0m \u001b[0;34m\u001b[0m\u001b[0m\n\u001b[1;32m    470\u001b[0m \u001b[0;32mdef\u001b[0m \u001b[0mwithSEVCHK\u001b[0m\u001b[0;34m(\u001b[0m\u001b[0mfcn\u001b[0m\u001b[0;34m)\u001b[0m\u001b[0;34m:\u001b[0m\u001b[0;34m\u001b[0m\u001b[0;34m\u001b[0m\u001b[0m\n",
      "\u001b[0;31mCASeverityException\u001b[0m:  put returned 'Write access denied'"
     ]
    }
   ],
   "source": [
    "RE(set_energy(13475,use_diode=True))"
   ]
  }
 ],
 "metadata": {
  "kernelspec": {
   "display_name": "Data Collection (2019-3.0)",
   "language": "",
   "name": "collection-2019-3.0"
  },
  "language_info": {
   "codemirror_mode": {
    "name": "ipython",
    "version": 3
   },
   "file_extension": ".py",
   "mimetype": "text/x-python",
   "name": "python",
   "nbconvert_exporter": "python",
   "pygments_lexer": "ipython3",
   "version": "3.7.3"
  }
 },
 "nbformat": 4,
 "nbformat_minor": 2
}
